{
  "nbformat": 4,
  "nbformat_minor": 0,
  "metadata": {
    "colab": {
      "provenance": []
    },
    "kernelspec": {
      "name": "python3",
      "display_name": "Python 3"
    },
    "language_info": {
      "name": "python"
    }
  },
  "cells": [
    {
      "cell_type": "markdown",
      "source": [
        "# Exercício 1\n",
        "Criar algoritmo que liste toda a sequência de Fibonacci até o número 100"
      ],
      "metadata": {
        "id": "oJD8qF0Takkb"
      }
    },
    {
      "cell_type": "code",
      "execution_count": 8,
      "metadata": {
        "id": "UZ5V4qZ4abI5"
      },
      "outputs": [],
      "source": [
        "def fib(x):\n",
        "  doisantes,antes,atual = 0,1,1\n",
        "  if x == 0 or x == 1:\n",
        "    return x\n",
        "  else:\n",
        "    for i in range(2,x):\n",
        "      doisantes = antes\n",
        "      antes = atual\n",
        "      atual = doisantes + antes\n",
        "    return atual"
      ]
    },
    {
      "cell_type": "code",
      "source": [
        "lista = list()"
      ],
      "metadata": {
        "id": "kLlFkwI9ekZZ"
      },
      "execution_count": 23,
      "outputs": []
    },
    {
      "cell_type": "code",
      "source": [
        "x=0\n",
        "while True:\n",
        "  if fib(x)<100:\n",
        "    lista.append(fib(x))\n",
        "    x+=1\n",
        "  else:\n",
        "    break"
      ],
      "metadata": {
        "id": "KU4Qvr7Dc1ml"
      },
      "execution_count": 24,
      "outputs": []
    },
    {
      "cell_type": "code",
      "source": [
        "lista"
      ],
      "metadata": {
        "colab": {
          "base_uri": "https://localhost:8080/"
        },
        "id": "5ORnE69eegEh",
        "outputId": "a6d0156d-4fc2-4263-e359-4f286bb6da7b"
      },
      "execution_count": 25,
      "outputs": [
        {
          "output_type": "execute_result",
          "data": {
            "text/plain": [
              "[0, 1, 1, 2, 3, 5, 8, 13, 21, 34, 55, 89]"
            ]
          },
          "metadata": {},
          "execution_count": 25
        }
      ]
    },
    {
      "cell_type": "markdown",
      "source": [
        "# Exercício 2\n",
        "Criar algoritmo que faça o fatoração do número 1024. (Exemplo de fatoração: 6! = 6\\*5\\*4\\*3\\*2\\*1).\n",
        "## Observação\n",
        "Considerando que o fatorial de 1024 é um número grande e que seu cálculo excede o tempo de execução máximo, vai se desconsiderar o parênteses, isto é, que se pediu a fatorial e, no lugar, se calculará sua fatoração"
      ],
      "metadata": {
        "id": "l0zIIQN5fLLR"
      }
    },
    {
      "cell_type": "code",
      "source": [
        "def fatoracao(x):\n",
        "    fatores = []\n",
        "    divisor = 2\n",
        "\n",
        "    while x > 1:\n",
        "        i = 0\n",
        "        while x % divisor == 0:\n",
        "            x //= divisor\n",
        "            i += 1\n",
        "        if i > 0:\n",
        "            fatores.extend([divisor] * i)\n",
        "        divisor += 1\n",
        "    return fatores"
      ],
      "metadata": {
        "id": "Ztw3mtpolGgx"
      },
      "execution_count": 54,
      "outputs": []
    },
    {
      "cell_type": "code",
      "source": [
        "num_teste = 1024\n",
        "resultado = fatoracao(num_teste)\n",
        "print(f\"A fatoração de {num_teste} é {resultado}\")"
      ],
      "metadata": {
        "colab": {
          "base_uri": "https://localhost:8080/"
        },
        "id": "rbViI_BQlmLv",
        "outputId": "a12e9897-6dd8-48b7-97b4-cd3ab54742ae"
      },
      "execution_count": 56,
      "outputs": [
        {
          "output_type": "stream",
          "name": "stdout",
          "text": [
            "A fatoração de 1024 é [2, 2, 2, 2, 2, 2, 2, 2, 2, 2]\n"
          ]
        }
      ]
    },
    {
      "cell_type": "markdown",
      "source": [
        "# Exercício 3\n",
        "Criar uma lista de frutas (bananas, maçãs, peras, uvas, laranjas) e fazer um algoritmo para consultar se uma fruta existe na lista. Caso não exista, adicionar a nova fruta. O programa só deve encerrar a brincadeira quando o usuário informar o número 999."
      ],
      "metadata": {
        "id": "9S2ryMBSl1vv"
      }
    },
    {
      "cell_type": "code",
      "source": [
        "lista = [\"bananas\", \"maçãs\", \"peras\", \"uvas\", \"laranjas\"]"
      ],
      "metadata": {
        "id": "7k4S5hlwmTHo"
      },
      "execution_count": 76,
      "outputs": []
    },
    {
      "cell_type": "code",
      "source": [
        "x = str(input())"
      ],
      "metadata": {
        "colab": {
          "base_uri": "https://localhost:8080/"
        },
        "id": "ufd86ATgnQ4s",
        "outputId": "f9e24cc6-0342-421f-a307-62b5d8607feb"
      },
      "execution_count": 77,
      "outputs": [
        {
          "name": "stdout",
          "output_type": "stream",
          "text": [
            "maçã\n"
          ]
        }
      ]
    },
    {
      "cell_type": "code",
      "source": [
        "while True:\n",
        "  if x==\"999\":\n",
        "    break\n",
        "  if x not in lista:\n",
        "    lista.append(x)\n",
        "    x=str(input())\n",
        "  else:\n",
        "    x=str(input())"
      ],
      "metadata": {
        "colab": {
          "base_uri": "https://localhost:8080/"
        },
        "id": "nnsLts11l09V",
        "outputId": "1dd05a63-b713-4015-8310-1589528a4bf6"
      },
      "execution_count": 78,
      "outputs": [
        {
          "name": "stdout",
          "output_type": "stream",
          "text": [
            "laranjas\n",
            "999\n"
          ]
        }
      ]
    },
    {
      "cell_type": "code",
      "source": [
        "lista"
      ],
      "metadata": {
        "colab": {
          "base_uri": "https://localhost:8080/"
        },
        "id": "vRGApNsXmpLt",
        "outputId": "d8696744-ef7c-41ba-f759-62bc08b0b468"
      },
      "execution_count": 80,
      "outputs": [
        {
          "output_type": "execute_result",
          "data": {
            "text/plain": [
              "['bananas', 'maçãs', 'peras', 'uvas', 'laranjas', 'maçã']"
            ]
          },
          "metadata": {},
          "execution_count": 80
        }
      ]
    }
  ]
}
