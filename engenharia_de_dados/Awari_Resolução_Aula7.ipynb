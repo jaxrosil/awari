{
 "cells": [
  {
   "cell_type": "markdown",
   "id": "4c05e549-8fc9-43d6-a548-0138cebe188a",
   "metadata": {
    "tags": []
   },
   "source": [
    "# Awari - Aula 7 - Kafka"
   ]
  },
  {
   "cell_type": "markdown",
   "id": "205ec18f-5a82-4058-85c6-86a25f0eca31",
   "metadata": {},
   "source": [
    "1. Importar as diferenças que são criadas nos dados da pasta /exercicios/municipios-estados/streaming/. A cada vez que um novo arquivo for adicionado, o mesmo deve ser importado para a pasta da UF correspondente e adicionado ao fim do arquivo cidades.csv.\n",
    "2. Utilizar Apache Kafka para fazer o mesmo processo, mas de maneira automatizada."
   ]
  },
  {
   "cell_type": "markdown",
   "id": "7edd73dd-3d42-429f-983b-f6ba526edf37",
   "metadata": {
    "tags": []
   },
   "source": [
    "## Tratamentos iniciais"
   ]
  },
  {
   "cell_type": "code",
   "execution_count": 1,
   "id": "2f67b1a7-2b7b-479b-97a8-18b2422f3a87",
   "metadata": {
    "tags": []
   },
   "outputs": [],
   "source": [
    "import pandas as pd"
   ]
  },
  {
   "cell_type": "code",
   "execution_count": 2,
   "id": "34177747-526b-427b-8459-70bd656f4184",
   "metadata": {
    "tags": []
   },
   "outputs": [],
   "source": [
    "df_estados = pd.read_csv(\"../arquivos/estados.csv\")"
   ]
  },
  {
   "cell_type": "code",
   "execution_count": 3,
   "id": "dd195afc-4fd2-40f9-89cf-db6dce8ae739",
   "metadata": {
    "tags": []
   },
   "outputs": [
    {
     "data": {
      "text/html": [
       "<div>\n",
       "<style scoped>\n",
       "    .dataframe tbody tr th:only-of-type {\n",
       "        vertical-align: middle;\n",
       "    }\n",
       "\n",
       "    .dataframe tbody tr th {\n",
       "        vertical-align: top;\n",
       "    }\n",
       "\n",
       "    .dataframe thead th {\n",
       "        text-align: right;\n",
       "    }\n",
       "</style>\n",
       "<table border=\"1\" class=\"dataframe\">\n",
       "  <thead>\n",
       "    <tr style=\"text-align: right;\">\n",
       "      <th></th>\n",
       "      <th>codigo_uf</th>\n",
       "      <th>uf</th>\n",
       "      <th>nome</th>\n",
       "      <th>latitude</th>\n",
       "      <th>longitude</th>\n",
       "      <th>regiao</th>\n",
       "    </tr>\n",
       "  </thead>\n",
       "  <tbody>\n",
       "    <tr>\n",
       "      <th>0</th>\n",
       "      <td>11</td>\n",
       "      <td>RO</td>\n",
       "      <td>Rondônia</td>\n",
       "      <td>-10.83</td>\n",
       "      <td>-63.34</td>\n",
       "      <td>Norte</td>\n",
       "    </tr>\n",
       "    <tr>\n",
       "      <th>1</th>\n",
       "      <td>12</td>\n",
       "      <td>AC</td>\n",
       "      <td>Acre</td>\n",
       "      <td>-8.77</td>\n",
       "      <td>-70.55</td>\n",
       "      <td>Norte</td>\n",
       "    </tr>\n",
       "    <tr>\n",
       "      <th>2</th>\n",
       "      <td>13</td>\n",
       "      <td>AM</td>\n",
       "      <td>Amazonas</td>\n",
       "      <td>-3.47</td>\n",
       "      <td>-65.10</td>\n",
       "      <td>Norte</td>\n",
       "    </tr>\n",
       "    <tr>\n",
       "      <th>3</th>\n",
       "      <td>14</td>\n",
       "      <td>RR</td>\n",
       "      <td>Roraima</td>\n",
       "      <td>1.99</td>\n",
       "      <td>-61.33</td>\n",
       "      <td>Norte</td>\n",
       "    </tr>\n",
       "    <tr>\n",
       "      <th>4</th>\n",
       "      <td>15</td>\n",
       "      <td>PA</td>\n",
       "      <td>Pará</td>\n",
       "      <td>-3.79</td>\n",
       "      <td>-52.48</td>\n",
       "      <td>Norte</td>\n",
       "    </tr>\n",
       "  </tbody>\n",
       "</table>\n",
       "</div>"
      ],
      "text/plain": [
       "   codigo_uf  uf      nome  latitude  longitude regiao\n",
       "0         11  RO  Rondônia    -10.83     -63.34  Norte\n",
       "1         12  AC      Acre     -8.77     -70.55  Norte\n",
       "2         13  AM  Amazonas     -3.47     -65.10  Norte\n",
       "3         14  RR   Roraima      1.99     -61.33  Norte\n",
       "4         15  PA      Pará     -3.79     -52.48  Norte"
      ]
     },
     "execution_count": 3,
     "metadata": {},
     "output_type": "execute_result"
    }
   ],
   "source": [
    "df_estados.head()"
   ]
  },
  {
   "cell_type": "code",
   "execution_count": 4,
   "id": "cd494835-43d3-4c2a-9f9a-a3d20e3e2df4",
   "metadata": {
    "tags": []
   },
   "outputs": [],
   "source": [
    "df_municipios = pd.read_csv(\"../arquivos/municipios.csv\")"
   ]
  },
  {
   "cell_type": "code",
   "execution_count": 5,
   "id": "f728298f-1db8-4945-ab88-cb40dae53df1",
   "metadata": {
    "tags": []
   },
   "outputs": [
    {
     "data": {
      "text/html": [
       "<div>\n",
       "<style scoped>\n",
       "    .dataframe tbody tr th:only-of-type {\n",
       "        vertical-align: middle;\n",
       "    }\n",
       "\n",
       "    .dataframe tbody tr th {\n",
       "        vertical-align: top;\n",
       "    }\n",
       "\n",
       "    .dataframe thead th {\n",
       "        text-align: right;\n",
       "    }\n",
       "</style>\n",
       "<table border=\"1\" class=\"dataframe\">\n",
       "  <thead>\n",
       "    <tr style=\"text-align: right;\">\n",
       "      <th></th>\n",
       "      <th>codigo_ibge</th>\n",
       "      <th>nome</th>\n",
       "      <th>latitude</th>\n",
       "      <th>longitude</th>\n",
       "      <th>capital</th>\n",
       "      <th>codigo_uf</th>\n",
       "      <th>siafi_id</th>\n",
       "      <th>ddd</th>\n",
       "      <th>fuso_horario</th>\n",
       "    </tr>\n",
       "  </thead>\n",
       "  <tbody>\n",
       "    <tr>\n",
       "      <th>0</th>\n",
       "      <td>5200050</td>\n",
       "      <td>Abadia de Goiás</td>\n",
       "      <td>-16.75730</td>\n",
       "      <td>-49.4412</td>\n",
       "      <td>0</td>\n",
       "      <td>52</td>\n",
       "      <td>1050</td>\n",
       "      <td>62</td>\n",
       "      <td>America/Sao_Paulo</td>\n",
       "    </tr>\n",
       "    <tr>\n",
       "      <th>1</th>\n",
       "      <td>3100104</td>\n",
       "      <td>Abadia dos Dourados</td>\n",
       "      <td>-18.48310</td>\n",
       "      <td>-47.3916</td>\n",
       "      <td>0</td>\n",
       "      <td>31</td>\n",
       "      <td>4001</td>\n",
       "      <td>34</td>\n",
       "      <td>America/Sao_Paulo</td>\n",
       "    </tr>\n",
       "    <tr>\n",
       "      <th>2</th>\n",
       "      <td>5200100</td>\n",
       "      <td>Abadiânia</td>\n",
       "      <td>-16.19700</td>\n",
       "      <td>-48.7057</td>\n",
       "      <td>0</td>\n",
       "      <td>52</td>\n",
       "      <td>9201</td>\n",
       "      <td>62</td>\n",
       "      <td>America/Sao_Paulo</td>\n",
       "    </tr>\n",
       "    <tr>\n",
       "      <th>3</th>\n",
       "      <td>3100203</td>\n",
       "      <td>Abaeté</td>\n",
       "      <td>-19.15510</td>\n",
       "      <td>-45.4444</td>\n",
       "      <td>0</td>\n",
       "      <td>31</td>\n",
       "      <td>4003</td>\n",
       "      <td>37</td>\n",
       "      <td>America/Sao_Paulo</td>\n",
       "    </tr>\n",
       "    <tr>\n",
       "      <th>4</th>\n",
       "      <td>1500107</td>\n",
       "      <td>Abaetetuba</td>\n",
       "      <td>-1.72183</td>\n",
       "      <td>-48.8788</td>\n",
       "      <td>0</td>\n",
       "      <td>15</td>\n",
       "      <td>401</td>\n",
       "      <td>91</td>\n",
       "      <td>America/Sao_Paulo</td>\n",
       "    </tr>\n",
       "  </tbody>\n",
       "</table>\n",
       "</div>"
      ],
      "text/plain": [
       "   codigo_ibge                 nome  latitude  longitude  capital  codigo_uf  \\\n",
       "0      5200050      Abadia de Goiás -16.75730   -49.4412        0         52   \n",
       "1      3100104  Abadia dos Dourados -18.48310   -47.3916        0         31   \n",
       "2      5200100            Abadiânia -16.19700   -48.7057        0         52   \n",
       "3      3100203               Abaeté -19.15510   -45.4444        0         31   \n",
       "4      1500107           Abaetetuba  -1.72183   -48.8788        0         15   \n",
       "\n",
       "   siafi_id  ddd       fuso_horario  \n",
       "0      1050   62  America/Sao_Paulo  \n",
       "1      4001   34  America/Sao_Paulo  \n",
       "2      9201   62  America/Sao_Paulo  \n",
       "3      4003   37  America/Sao_Paulo  \n",
       "4       401   91  America/Sao_Paulo  "
      ]
     },
     "execution_count": 5,
     "metadata": {},
     "output_type": "execute_result"
    }
   ],
   "source": [
    "df_municipios.head()"
   ]
  },
  {
   "cell_type": "code",
   "execution_count": 6,
   "id": "da7ab210-4063-4f4a-8dcd-305049f46200",
   "metadata": {
    "tags": []
   },
   "outputs": [
    {
     "data": {
      "text/html": [
       "<div>\n",
       "<style scoped>\n",
       "    .dataframe tbody tr th:only-of-type {\n",
       "        vertical-align: middle;\n",
       "    }\n",
       "\n",
       "    .dataframe tbody tr th {\n",
       "        vertical-align: top;\n",
       "    }\n",
       "\n",
       "    .dataframe thead th {\n",
       "        text-align: right;\n",
       "    }\n",
       "</style>\n",
       "<table border=\"1\" class=\"dataframe\">\n",
       "  <thead>\n",
       "    <tr style=\"text-align: right;\">\n",
       "      <th></th>\n",
       "      <th>codigo_ibge</th>\n",
       "      <th>nome</th>\n",
       "      <th>latitude</th>\n",
       "      <th>longitude</th>\n",
       "      <th>capital</th>\n",
       "      <th>codigo_uf</th>\n",
       "      <th>siafi_id</th>\n",
       "      <th>ddd</th>\n",
       "      <th>fuso_horario</th>\n",
       "      <th>uf</th>\n",
       "    </tr>\n",
       "  </thead>\n",
       "  <tbody>\n",
       "    <tr>\n",
       "      <th>0</th>\n",
       "      <td>5200050</td>\n",
       "      <td>Abadia de Goiás</td>\n",
       "      <td>-16.7573</td>\n",
       "      <td>-49.4412</td>\n",
       "      <td>0</td>\n",
       "      <td>52</td>\n",
       "      <td>1050</td>\n",
       "      <td>62</td>\n",
       "      <td>America/Sao_Paulo</td>\n",
       "      <td>GO</td>\n",
       "    </tr>\n",
       "    <tr>\n",
       "      <th>1</th>\n",
       "      <td>5200100</td>\n",
       "      <td>Abadiânia</td>\n",
       "      <td>-16.1970</td>\n",
       "      <td>-48.7057</td>\n",
       "      <td>0</td>\n",
       "      <td>52</td>\n",
       "      <td>9201</td>\n",
       "      <td>62</td>\n",
       "      <td>America/Sao_Paulo</td>\n",
       "      <td>GO</td>\n",
       "    </tr>\n",
       "    <tr>\n",
       "      <th>2</th>\n",
       "      <td>5200134</td>\n",
       "      <td>Acreúna</td>\n",
       "      <td>-17.3960</td>\n",
       "      <td>-50.3749</td>\n",
       "      <td>0</td>\n",
       "      <td>52</td>\n",
       "      <td>9645</td>\n",
       "      <td>64</td>\n",
       "      <td>America/Sao_Paulo</td>\n",
       "      <td>GO</td>\n",
       "    </tr>\n",
       "    <tr>\n",
       "      <th>3</th>\n",
       "      <td>5200159</td>\n",
       "      <td>Adelândia</td>\n",
       "      <td>-16.4127</td>\n",
       "      <td>-50.1657</td>\n",
       "      <td>0</td>\n",
       "      <td>52</td>\n",
       "      <td>9769</td>\n",
       "      <td>64</td>\n",
       "      <td>America/Sao_Paulo</td>\n",
       "      <td>GO</td>\n",
       "    </tr>\n",
       "    <tr>\n",
       "      <th>4</th>\n",
       "      <td>5200175</td>\n",
       "      <td>Água Fria de Goiás</td>\n",
       "      <td>-14.9778</td>\n",
       "      <td>-47.7823</td>\n",
       "      <td>0</td>\n",
       "      <td>52</td>\n",
       "      <td>9771</td>\n",
       "      <td>62</td>\n",
       "      <td>America/Sao_Paulo</td>\n",
       "      <td>GO</td>\n",
       "    </tr>\n",
       "    <tr>\n",
       "      <th>...</th>\n",
       "      <td>...</td>\n",
       "      <td>...</td>\n",
       "      <td>...</td>\n",
       "      <td>...</td>\n",
       "      <td>...</td>\n",
       "      <td>...</td>\n",
       "      <td>...</td>\n",
       "      <td>...</td>\n",
       "      <td>...</td>\n",
       "      <td>...</td>\n",
       "    </tr>\n",
       "    <tr>\n",
       "      <th>5565</th>\n",
       "      <td>3306107</td>\n",
       "      <td>Valença</td>\n",
       "      <td>-22.2445</td>\n",
       "      <td>-43.7129</td>\n",
       "      <td>0</td>\n",
       "      <td>33</td>\n",
       "      <td>5921</td>\n",
       "      <td>24</td>\n",
       "      <td>America/Sao_Paulo</td>\n",
       "      <td>RJ</td>\n",
       "    </tr>\n",
       "    <tr>\n",
       "      <th>5566</th>\n",
       "      <td>3306156</td>\n",
       "      <td>Varre-Sai</td>\n",
       "      <td>-20.9276</td>\n",
       "      <td>-41.8701</td>\n",
       "      <td>0</td>\n",
       "      <td>33</td>\n",
       "      <td>2917</td>\n",
       "      <td>22</td>\n",
       "      <td>America/Sao_Paulo</td>\n",
       "      <td>RJ</td>\n",
       "    </tr>\n",
       "    <tr>\n",
       "      <th>5567</th>\n",
       "      <td>3306206</td>\n",
       "      <td>Vassouras</td>\n",
       "      <td>-22.4059</td>\n",
       "      <td>-43.6686</td>\n",
       "      <td>0</td>\n",
       "      <td>33</td>\n",
       "      <td>5923</td>\n",
       "      <td>24</td>\n",
       "      <td>America/Sao_Paulo</td>\n",
       "      <td>RJ</td>\n",
       "    </tr>\n",
       "    <tr>\n",
       "      <th>5568</th>\n",
       "      <td>3306305</td>\n",
       "      <td>Volta Redonda</td>\n",
       "      <td>-22.5202</td>\n",
       "      <td>-44.0996</td>\n",
       "      <td>0</td>\n",
       "      <td>33</td>\n",
       "      <td>5925</td>\n",
       "      <td>24</td>\n",
       "      <td>America/Sao_Paulo</td>\n",
       "      <td>RJ</td>\n",
       "    </tr>\n",
       "    <tr>\n",
       "      <th>5569</th>\n",
       "      <td>5300108</td>\n",
       "      <td>Brasília</td>\n",
       "      <td>-15.7795</td>\n",
       "      <td>-47.9297</td>\n",
       "      <td>1</td>\n",
       "      <td>53</td>\n",
       "      <td>9701</td>\n",
       "      <td>61</td>\n",
       "      <td>America/Sao_Paulo</td>\n",
       "      <td>DF</td>\n",
       "    </tr>\n",
       "  </tbody>\n",
       "</table>\n",
       "<p>5570 rows × 10 columns</p>\n",
       "</div>"
      ],
      "text/plain": [
       "      codigo_ibge                nome  latitude  longitude  capital  \\\n",
       "0         5200050     Abadia de Goiás  -16.7573   -49.4412        0   \n",
       "1         5200100           Abadiânia  -16.1970   -48.7057        0   \n",
       "2         5200134             Acreúna  -17.3960   -50.3749        0   \n",
       "3         5200159           Adelândia  -16.4127   -50.1657        0   \n",
       "4         5200175  Água Fria de Goiás  -14.9778   -47.7823        0   \n",
       "...           ...                 ...       ...        ...      ...   \n",
       "5565      3306107             Valença  -22.2445   -43.7129        0   \n",
       "5566      3306156           Varre-Sai  -20.9276   -41.8701        0   \n",
       "5567      3306206           Vassouras  -22.4059   -43.6686        0   \n",
       "5568      3306305       Volta Redonda  -22.5202   -44.0996        0   \n",
       "5569      5300108            Brasília  -15.7795   -47.9297        1   \n",
       "\n",
       "      codigo_uf  siafi_id  ddd       fuso_horario  uf  \n",
       "0            52      1050   62  America/Sao_Paulo  GO  \n",
       "1            52      9201   62  America/Sao_Paulo  GO  \n",
       "2            52      9645   64  America/Sao_Paulo  GO  \n",
       "3            52      9769   64  America/Sao_Paulo  GO  \n",
       "4            52      9771   62  America/Sao_Paulo  GO  \n",
       "...         ...       ...  ...                ...  ..  \n",
       "5565         33      5921   24  America/Sao_Paulo  RJ  \n",
       "5566         33      2917   22  America/Sao_Paulo  RJ  \n",
       "5567         33      5923   24  America/Sao_Paulo  RJ  \n",
       "5568         33      5925   24  America/Sao_Paulo  RJ  \n",
       "5569         53      9701   61  America/Sao_Paulo  DF  \n",
       "\n",
       "[5570 rows x 10 columns]"
      ]
     },
     "execution_count": 6,
     "metadata": {},
     "output_type": "execute_result"
    }
   ],
   "source": [
    "df_municipios.merge(df_estados[['uf', 'codigo_uf']], on=\"codigo_uf\")"
   ]
  },
  {
   "cell_type": "code",
   "execution_count": 7,
   "id": "d6fd0370-f7ef-41b6-8caa-171e5b25f19b",
   "metadata": {
    "tags": []
   },
   "outputs": [],
   "source": [
    "df = df_municipios.merge(df_estados[['uf', 'codigo_uf']], on=\"codigo_uf\")"
   ]
  },
  {
   "cell_type": "markdown",
   "id": "ca4d622f-98dc-4668-a392-9a9823b63e47",
   "metadata": {},
   "source": [
    "## MinIO"
   ]
  },
  {
   "cell_type": "code",
   "execution_count": 8,
   "id": "d4cbaddc-d230-4794-b7a3-0916972343ba",
   "metadata": {
    "tags": []
   },
   "outputs": [],
   "source": [
    "#!pip install boto3"
   ]
  },
  {
   "cell_type": "code",
   "execution_count": 9,
   "id": "aaf20b58-bec7-4d9c-a5c3-beb751fa8df5",
   "metadata": {
    "tags": []
   },
   "outputs": [],
   "source": [
    "import boto3"
   ]
  },
  {
   "cell_type": "code",
   "execution_count": 10,
   "id": "ba41fc3e-d6a6-4186-bfd0-ff321eaa988d",
   "metadata": {
    "tags": []
   },
   "outputs": [],
   "source": [
    "client = boto3.client('s3', \n",
    "    endpoint_url='http://awari-minio-nginx:9000',\n",
    "    aws_access_key_id='hxhFDOAzIu8nZM33',\n",
    "    aws_secret_access_key='TKHENO4SuG4mLURfD0sxKXGvPokV9GT1',\n",
    "    aws_session_token=None,\n",
    "    config=boto3.session.Config(signature_version='s3v4'),\n",
    "    verify=False,\n",
    "    region_name='sa-east-1'\n",
    ")"
   ]
  },
  {
   "cell_type": "code",
   "execution_count": 11,
   "id": "93b04adb-7a71-49fd-b831-8a743ec848c1",
   "metadata": {
    "tags": []
   },
   "outputs": [],
   "source": [
    "for uf in df.uf.unique():\n",
    "    aux = df[df.uf == uf]\n",
    "    client.put_object(Bucket='aula-06', Key=f'{uf}/municipios.csv', Body=aux.to_csv(index=False))"
   ]
  },
  {
   "cell_type": "markdown",
   "id": "9c5d8cf0-d195-45cd-b835-618b998f516c",
   "metadata": {},
   "source": [
    "## Sem Kafka"
   ]
  },
  {
   "cell_type": "code",
   "execution_count": 12,
   "id": "3c4c863b-bb0a-4164-9e3b-21cd8e9322cf",
   "metadata": {
    "tags": []
   },
   "outputs": [],
   "source": [
    "estado_novo = pd.read_csv(\"../arquivos/estados_streaming.csv\")"
   ]
  },
  {
   "cell_type": "code",
   "execution_count": 13,
   "id": "930bd8eb-665a-4814-bab8-2f9064909509",
   "metadata": {
    "tags": []
   },
   "outputs": [
    {
     "data": {
      "text/html": [
       "<div>\n",
       "<style scoped>\n",
       "    .dataframe tbody tr th:only-of-type {\n",
       "        vertical-align: middle;\n",
       "    }\n",
       "\n",
       "    .dataframe tbody tr th {\n",
       "        vertical-align: top;\n",
       "    }\n",
       "\n",
       "    .dataframe thead th {\n",
       "        text-align: right;\n",
       "    }\n",
       "</style>\n",
       "<table border=\"1\" class=\"dataframe\">\n",
       "  <thead>\n",
       "    <tr style=\"text-align: right;\">\n",
       "      <th></th>\n",
       "      <th>codigo_uf</th>\n",
       "      <th>uf</th>\n",
       "      <th>nome</th>\n",
       "      <th>latitude</th>\n",
       "      <th>longitude</th>\n",
       "      <th>regiao</th>\n",
       "    </tr>\n",
       "  </thead>\n",
       "  <tbody>\n",
       "    <tr>\n",
       "      <th>0</th>\n",
       "      <td>101</td>\n",
       "      <td>AWARI-1</td>\n",
       "      <td>Awari Estado 1</td>\n",
       "      <td>-10.83</td>\n",
       "      <td>-63.34</td>\n",
       "      <td>Norte</td>\n",
       "    </tr>\n",
       "    <tr>\n",
       "      <th>1</th>\n",
       "      <td>102</td>\n",
       "      <td>AWARI-2</td>\n",
       "      <td>Awari Estado 2</td>\n",
       "      <td>-8.77</td>\n",
       "      <td>-70.55</td>\n",
       "      <td>Norte</td>\n",
       "    </tr>\n",
       "  </tbody>\n",
       "</table>\n",
       "</div>"
      ],
      "text/plain": [
       "   codigo_uf       uf            nome  latitude  longitude regiao\n",
       "0        101  AWARI-1  Awari Estado 1    -10.83     -63.34  Norte\n",
       "1        102  AWARI-2  Awari Estado 2     -8.77     -70.55  Norte"
      ]
     },
     "execution_count": 13,
     "metadata": {},
     "output_type": "execute_result"
    }
   ],
   "source": [
    "estado_novo"
   ]
  },
  {
   "cell_type": "code",
   "execution_count": 14,
   "id": "08417831-e8cc-4aa3-88b9-fe14ed069526",
   "metadata": {
    "tags": []
   },
   "outputs": [],
   "source": [
    "municipio_novo = pd.read_csv(\"../arquivos/municipios_streaming.csv\")\t"
   ]
  },
  {
   "cell_type": "code",
   "execution_count": 15,
   "id": "7dba0ce7-98ea-4aec-ba4c-129af68ceab7",
   "metadata": {
    "tags": []
   },
   "outputs": [
    {
     "data": {
      "text/html": [
       "<div>\n",
       "<style scoped>\n",
       "    .dataframe tbody tr th:only-of-type {\n",
       "        vertical-align: middle;\n",
       "    }\n",
       "\n",
       "    .dataframe tbody tr th {\n",
       "        vertical-align: top;\n",
       "    }\n",
       "\n",
       "    .dataframe thead th {\n",
       "        text-align: right;\n",
       "    }\n",
       "</style>\n",
       "<table border=\"1\" class=\"dataframe\">\n",
       "  <thead>\n",
       "    <tr style=\"text-align: right;\">\n",
       "      <th></th>\n",
       "      <th>codigo_ibge</th>\n",
       "      <th>nome</th>\n",
       "      <th>latitude</th>\n",
       "      <th>longitude</th>\n",
       "      <th>capital</th>\n",
       "      <th>codigo_uf</th>\n",
       "      <th>siafi_id</th>\n",
       "      <th>ddd</th>\n",
       "      <th>fuso_horario</th>\n",
       "    </tr>\n",
       "  </thead>\n",
       "  <tbody>\n",
       "    <tr>\n",
       "      <th>0</th>\n",
       "      <td>9900001</td>\n",
       "      <td>Minha cidade 1</td>\n",
       "      <td>-16.7573</td>\n",
       "      <td>-49.4412</td>\n",
       "      <td>0</td>\n",
       "      <td>52</td>\n",
       "      <td>1050</td>\n",
       "      <td>100</td>\n",
       "      <td>America/Sao_Paulo</td>\n",
       "    </tr>\n",
       "    <tr>\n",
       "      <th>1</th>\n",
       "      <td>9900002</td>\n",
       "      <td>Minha cidade 2</td>\n",
       "      <td>-18.4831</td>\n",
       "      <td>-47.3916</td>\n",
       "      <td>0</td>\n",
       "      <td>31</td>\n",
       "      <td>4001</td>\n",
       "      <td>101</td>\n",
       "      <td>America/Sao_Paulo</td>\n",
       "    </tr>\n",
       "  </tbody>\n",
       "</table>\n",
       "</div>"
      ],
      "text/plain": [
       "   codigo_ibge            nome  latitude  longitude  capital  codigo_uf  \\\n",
       "0      9900001  Minha cidade 1  -16.7573   -49.4412        0         52   \n",
       "1      9900002  Minha cidade 2  -18.4831   -47.3916        0         31   \n",
       "\n",
       "   siafi_id  ddd       fuso_horario  \n",
       "0      1050  100  America/Sao_Paulo  \n",
       "1      4001  101  America/Sao_Paulo  "
      ]
     },
     "execution_count": 15,
     "metadata": {},
     "output_type": "execute_result"
    }
   ],
   "source": [
    "municipio_novo"
   ]
  },
  {
   "cell_type": "code",
   "execution_count": 16,
   "id": "0cb15f8d-8986-4f5f-ba24-e065cf3eebc5",
   "metadata": {},
   "outputs": [
    {
     "name": "stdout",
     "output_type": "stream",
     "text": [
      "<class 'pandas.core.frame.DataFrame'>\n",
      "RangeIndex: 2 entries, 0 to 1\n",
      "Data columns (total 6 columns):\n",
      " #   Column     Non-Null Count  Dtype  \n",
      "---  ------     --------------  -----  \n",
      " 0   codigo_uf  2 non-null      int64  \n",
      " 1   uf         2 non-null      object \n",
      " 2   nome       2 non-null      object \n",
      " 3   latitude   2 non-null      float64\n",
      " 4   longitude  2 non-null      float64\n",
      " 5   regiao     2 non-null      object \n",
      "dtypes: float64(2), int64(1), object(3)\n",
      "memory usage: 224.0+ bytes\n"
     ]
    }
   ],
   "source": [
    "estado_novo.info()"
   ]
  },
  {
   "cell_type": "code",
   "execution_count": 17,
   "id": "76cda957-a567-4de3-bc27-f0591e001ec1",
   "metadata": {},
   "outputs": [
    {
     "name": "stdout",
     "output_type": "stream",
     "text": [
      "<class 'pandas.core.frame.DataFrame'>\n",
      "RangeIndex: 27 entries, 0 to 26\n",
      "Data columns (total 6 columns):\n",
      " #   Column     Non-Null Count  Dtype  \n",
      "---  ------     --------------  -----  \n",
      " 0   codigo_uf  27 non-null     int64  \n",
      " 1   uf         27 non-null     object \n",
      " 2   nome       27 non-null     object \n",
      " 3   latitude   27 non-null     float64\n",
      " 4   longitude  27 non-null     float64\n",
      " 5   regiao     27 non-null     object \n",
      "dtypes: float64(2), int64(1), object(3)\n",
      "memory usage: 1.4+ KB\n"
     ]
    }
   ],
   "source": [
    "df_estados.info()"
   ]
  },
  {
   "cell_type": "code",
   "execution_count": 18,
   "id": "3513e774-4429-4de4-b056-336d9f195fd0",
   "metadata": {},
   "outputs": [
    {
     "name": "stdout",
     "output_type": "stream",
     "text": [
      "<class 'pandas.core.frame.DataFrame'>\n",
      "RangeIndex: 2 entries, 0 to 1\n",
      "Data columns (total 9 columns):\n",
      " #   Column        Non-Null Count  Dtype  \n",
      "---  ------        --------------  -----  \n",
      " 0   codigo_ibge   2 non-null      int64  \n",
      " 1   nome          2 non-null      object \n",
      " 2   latitude      2 non-null      float64\n",
      " 3   longitude     2 non-null      float64\n",
      " 4   capital       2 non-null      int64  \n",
      " 5   codigo_uf     2 non-null      int64  \n",
      " 6   siafi_id      2 non-null      int64  \n",
      " 7   ddd           2 non-null      int64  \n",
      " 8   fuso_horario  2 non-null      object \n",
      "dtypes: float64(2), int64(5), object(2)\n",
      "memory usage: 272.0+ bytes\n"
     ]
    }
   ],
   "source": [
    "municipio_novo.info()"
   ]
  },
  {
   "cell_type": "code",
   "execution_count": 19,
   "id": "55b81f6e-684a-4661-9c34-80286ebf4da9",
   "metadata": {},
   "outputs": [
    {
     "name": "stdout",
     "output_type": "stream",
     "text": [
      "<class 'pandas.core.frame.DataFrame'>\n",
      "RangeIndex: 5570 entries, 0 to 5569\n",
      "Data columns (total 9 columns):\n",
      " #   Column        Non-Null Count  Dtype  \n",
      "---  ------        --------------  -----  \n",
      " 0   codigo_ibge   5570 non-null   int64  \n",
      " 1   nome          5570 non-null   object \n",
      " 2   latitude      5570 non-null   float64\n",
      " 3   longitude     5570 non-null   float64\n",
      " 4   capital       5570 non-null   int64  \n",
      " 5   codigo_uf     5570 non-null   int64  \n",
      " 6   siafi_id      5570 non-null   int64  \n",
      " 7   ddd           5570 non-null   int64  \n",
      " 8   fuso_horario  5570 non-null   object \n",
      "dtypes: float64(2), int64(5), object(2)\n",
      "memory usage: 391.8+ KB\n"
     ]
    }
   ],
   "source": [
    "df_municipios.info()"
   ]
  },
  {
   "cell_type": "code",
   "execution_count": 20,
   "id": "5e2bd2b6-0f12-44c1-905a-6d7e67a6c3cc",
   "metadata": {
    "tags": []
   },
   "outputs": [],
   "source": [
    "aux1 = pd.concat([df_estados, estado_novo], axis=0)"
   ]
  },
  {
   "cell_type": "code",
   "execution_count": 21,
   "id": "0a6aa01f-e62c-4246-9d79-500db6173cbc",
   "metadata": {
    "tags": []
   },
   "outputs": [
    {
     "data": {
      "text/plain": [
       "array([ 11,  12,  13,  14,  15,  16,  17,  21,  22,  23,  24,  25,  26,\n",
       "        27,  28,  29,  31,  32,  33,  35,  41,  42,  43,  50,  51,  52,\n",
       "        53, 101, 102])"
      ]
     },
     "execution_count": 21,
     "metadata": {},
     "output_type": "execute_result"
    }
   ],
   "source": [
    "aux1.codigo_uf.unique()"
   ]
  },
  {
   "cell_type": "code",
   "execution_count": 22,
   "id": "bf00472e-0b64-43e3-b050-3a84af20fcdf",
   "metadata": {
    "tags": []
   },
   "outputs": [],
   "source": [
    "aux2 = pd.concat([df_municipios, municipio_novo], axis=0)"
   ]
  },
  {
   "cell_type": "code",
   "execution_count": 23,
   "id": "9b6ff0f0-c32c-4c55-b5a9-154048bbdb0b",
   "metadata": {
    "tags": []
   },
   "outputs": [],
   "source": [
    "aux = pd.merge(aux2, aux1[['uf', 'codigo_uf']], on=\"codigo_uf\")"
   ]
  },
  {
   "cell_type": "code",
   "execution_count": 24,
   "id": "695050f5-4144-4ad7-9370-4eb5da3eda11",
   "metadata": {
    "tags": []
   },
   "outputs": [
    {
     "data": {
      "text/html": [
       "<div>\n",
       "<style scoped>\n",
       "    .dataframe tbody tr th:only-of-type {\n",
       "        vertical-align: middle;\n",
       "    }\n",
       "\n",
       "    .dataframe tbody tr th {\n",
       "        vertical-align: top;\n",
       "    }\n",
       "\n",
       "    .dataframe thead th {\n",
       "        text-align: right;\n",
       "    }\n",
       "</style>\n",
       "<table border=\"1\" class=\"dataframe\">\n",
       "  <thead>\n",
       "    <tr style=\"text-align: right;\">\n",
       "      <th></th>\n",
       "      <th>codigo_ibge</th>\n",
       "      <th>nome</th>\n",
       "      <th>latitude</th>\n",
       "      <th>longitude</th>\n",
       "      <th>capital</th>\n",
       "      <th>codigo_uf</th>\n",
       "      <th>siafi_id</th>\n",
       "      <th>ddd</th>\n",
       "      <th>fuso_horario</th>\n",
       "      <th>uf</th>\n",
       "    </tr>\n",
       "  </thead>\n",
       "  <tbody>\n",
       "    <tr>\n",
       "      <th>246</th>\n",
       "      <td>9900001</td>\n",
       "      <td>Minha cidade 1</td>\n",
       "      <td>-16.7573</td>\n",
       "      <td>-49.4412</td>\n",
       "      <td>0</td>\n",
       "      <td>52</td>\n",
       "      <td>1050</td>\n",
       "      <td>100</td>\n",
       "      <td>America/Sao_Paulo</td>\n",
       "      <td>GO</td>\n",
       "    </tr>\n",
       "  </tbody>\n",
       "</table>\n",
       "</div>"
      ],
      "text/plain": [
       "     codigo_ibge            nome  latitude  longitude  capital  codigo_uf  \\\n",
       "246      9900001  Minha cidade 1  -16.7573   -49.4412        0         52   \n",
       "\n",
       "     siafi_id  ddd       fuso_horario  uf  \n",
       "246      1050  100  America/Sao_Paulo  GO  "
      ]
     },
     "execution_count": 24,
     "metadata": {},
     "output_type": "execute_result"
    }
   ],
   "source": [
    "aux.loc[aux.nome=='Minha cidade 1']"
   ]
  },
  {
   "cell_type": "code",
   "execution_count": 25,
   "id": "ae9ef552-4464-4070-bb73-70702674e3c9",
   "metadata": {
    "tags": []
   },
   "outputs": [],
   "source": [
    "def concat_df(antigo, novo):\n",
    "    df = pd.concat([antigo, novo], axis=0)\n",
    "    df.drop_duplicates(inplace=True)\n",
    "    return df"
   ]
  },
  {
   "cell_type": "code",
   "execution_count": 26,
   "id": "5a89b753-f71c-424f-a5f0-cfe4f0775a03",
   "metadata": {
    "tags": []
   },
   "outputs": [],
   "source": [
    "def merge_df(municipio, estado):\n",
    "    df = municipio.merge(estado[['uf', 'codigo_uf']], on=\"codigo_uf\")\n",
    "    return df"
   ]
  },
  {
   "cell_type": "code",
   "execution_count": 27,
   "id": "ddd590a5-cf89-4c36-a118-8e3f6dd02828",
   "metadata": {
    "tags": []
   },
   "outputs": [],
   "source": [
    "def summary(municipio_antigo, municipio_novo, estado_antigo, estado_novo):\n",
    "    estado = concat_df(estado_antigo, estado_novo)\n",
    "    municipio = concat_df(municipio_antigo, municipio_novo)\n",
    "    df = merge_df(municipio, estado)\n",
    "    return df"
   ]
  },
  {
   "cell_type": "code",
   "execution_count": 28,
   "id": "a81efb73-e12d-49e5-a985-432bbf0744f7",
   "metadata": {
    "tags": []
   },
   "outputs": [],
   "source": [
    "df = summary(df_municipios, municipio_novo, df_estados, estado_novo)"
   ]
  },
  {
   "cell_type": "code",
   "execution_count": 29,
   "id": "53c742cd-724b-4839-b1d2-4fd6d68ab02e",
   "metadata": {
    "tags": []
   },
   "outputs": [
    {
     "data": {
      "text/html": [
       "<div>\n",
       "<style scoped>\n",
       "    .dataframe tbody tr th:only-of-type {\n",
       "        vertical-align: middle;\n",
       "    }\n",
       "\n",
       "    .dataframe tbody tr th {\n",
       "        vertical-align: top;\n",
       "    }\n",
       "\n",
       "    .dataframe thead th {\n",
       "        text-align: right;\n",
       "    }\n",
       "</style>\n",
       "<table border=\"1\" class=\"dataframe\">\n",
       "  <thead>\n",
       "    <tr style=\"text-align: right;\">\n",
       "      <th></th>\n",
       "      <th>codigo_ibge</th>\n",
       "      <th>nome</th>\n",
       "      <th>latitude</th>\n",
       "      <th>longitude</th>\n",
       "      <th>capital</th>\n",
       "      <th>codigo_uf</th>\n",
       "      <th>siafi_id</th>\n",
       "      <th>ddd</th>\n",
       "      <th>fuso_horario</th>\n",
       "      <th>uf</th>\n",
       "    </tr>\n",
       "  </thead>\n",
       "  <tbody>\n",
       "    <tr>\n",
       "      <th>0</th>\n",
       "      <td>5200050</td>\n",
       "      <td>Abadia de Goiás</td>\n",
       "      <td>-16.7573</td>\n",
       "      <td>-49.4412</td>\n",
       "      <td>0</td>\n",
       "      <td>52</td>\n",
       "      <td>1050</td>\n",
       "      <td>62</td>\n",
       "      <td>America/Sao_Paulo</td>\n",
       "      <td>GO</td>\n",
       "    </tr>\n",
       "    <tr>\n",
       "      <th>1</th>\n",
       "      <td>5200100</td>\n",
       "      <td>Abadiânia</td>\n",
       "      <td>-16.1970</td>\n",
       "      <td>-48.7057</td>\n",
       "      <td>0</td>\n",
       "      <td>52</td>\n",
       "      <td>9201</td>\n",
       "      <td>62</td>\n",
       "      <td>America/Sao_Paulo</td>\n",
       "      <td>GO</td>\n",
       "    </tr>\n",
       "    <tr>\n",
       "      <th>2</th>\n",
       "      <td>5200134</td>\n",
       "      <td>Acreúna</td>\n",
       "      <td>-17.3960</td>\n",
       "      <td>-50.3749</td>\n",
       "      <td>0</td>\n",
       "      <td>52</td>\n",
       "      <td>9645</td>\n",
       "      <td>64</td>\n",
       "      <td>America/Sao_Paulo</td>\n",
       "      <td>GO</td>\n",
       "    </tr>\n",
       "    <tr>\n",
       "      <th>3</th>\n",
       "      <td>5200159</td>\n",
       "      <td>Adelândia</td>\n",
       "      <td>-16.4127</td>\n",
       "      <td>-50.1657</td>\n",
       "      <td>0</td>\n",
       "      <td>52</td>\n",
       "      <td>9769</td>\n",
       "      <td>64</td>\n",
       "      <td>America/Sao_Paulo</td>\n",
       "      <td>GO</td>\n",
       "    </tr>\n",
       "    <tr>\n",
       "      <th>4</th>\n",
       "      <td>5200175</td>\n",
       "      <td>Água Fria de Goiás</td>\n",
       "      <td>-14.9778</td>\n",
       "      <td>-47.7823</td>\n",
       "      <td>0</td>\n",
       "      <td>52</td>\n",
       "      <td>9771</td>\n",
       "      <td>62</td>\n",
       "      <td>America/Sao_Paulo</td>\n",
       "      <td>GO</td>\n",
       "    </tr>\n",
       "    <tr>\n",
       "      <th>...</th>\n",
       "      <td>...</td>\n",
       "      <td>...</td>\n",
       "      <td>...</td>\n",
       "      <td>...</td>\n",
       "      <td>...</td>\n",
       "      <td>...</td>\n",
       "      <td>...</td>\n",
       "      <td>...</td>\n",
       "      <td>...</td>\n",
       "      <td>...</td>\n",
       "    </tr>\n",
       "    <tr>\n",
       "      <th>5567</th>\n",
       "      <td>3306107</td>\n",
       "      <td>Valença</td>\n",
       "      <td>-22.2445</td>\n",
       "      <td>-43.7129</td>\n",
       "      <td>0</td>\n",
       "      <td>33</td>\n",
       "      <td>5921</td>\n",
       "      <td>24</td>\n",
       "      <td>America/Sao_Paulo</td>\n",
       "      <td>RJ</td>\n",
       "    </tr>\n",
       "    <tr>\n",
       "      <th>5568</th>\n",
       "      <td>3306156</td>\n",
       "      <td>Varre-Sai</td>\n",
       "      <td>-20.9276</td>\n",
       "      <td>-41.8701</td>\n",
       "      <td>0</td>\n",
       "      <td>33</td>\n",
       "      <td>2917</td>\n",
       "      <td>22</td>\n",
       "      <td>America/Sao_Paulo</td>\n",
       "      <td>RJ</td>\n",
       "    </tr>\n",
       "    <tr>\n",
       "      <th>5569</th>\n",
       "      <td>3306206</td>\n",
       "      <td>Vassouras</td>\n",
       "      <td>-22.4059</td>\n",
       "      <td>-43.6686</td>\n",
       "      <td>0</td>\n",
       "      <td>33</td>\n",
       "      <td>5923</td>\n",
       "      <td>24</td>\n",
       "      <td>America/Sao_Paulo</td>\n",
       "      <td>RJ</td>\n",
       "    </tr>\n",
       "    <tr>\n",
       "      <th>5570</th>\n",
       "      <td>3306305</td>\n",
       "      <td>Volta Redonda</td>\n",
       "      <td>-22.5202</td>\n",
       "      <td>-44.0996</td>\n",
       "      <td>0</td>\n",
       "      <td>33</td>\n",
       "      <td>5925</td>\n",
       "      <td>24</td>\n",
       "      <td>America/Sao_Paulo</td>\n",
       "      <td>RJ</td>\n",
       "    </tr>\n",
       "    <tr>\n",
       "      <th>5571</th>\n",
       "      <td>5300108</td>\n",
       "      <td>Brasília</td>\n",
       "      <td>-15.7795</td>\n",
       "      <td>-47.9297</td>\n",
       "      <td>1</td>\n",
       "      <td>53</td>\n",
       "      <td>9701</td>\n",
       "      <td>61</td>\n",
       "      <td>America/Sao_Paulo</td>\n",
       "      <td>DF</td>\n",
       "    </tr>\n",
       "  </tbody>\n",
       "</table>\n",
       "<p>5572 rows × 10 columns</p>\n",
       "</div>"
      ],
      "text/plain": [
       "      codigo_ibge                nome  latitude  longitude  capital  \\\n",
       "0         5200050     Abadia de Goiás  -16.7573   -49.4412        0   \n",
       "1         5200100           Abadiânia  -16.1970   -48.7057        0   \n",
       "2         5200134             Acreúna  -17.3960   -50.3749        0   \n",
       "3         5200159           Adelândia  -16.4127   -50.1657        0   \n",
       "4         5200175  Água Fria de Goiás  -14.9778   -47.7823        0   \n",
       "...           ...                 ...       ...        ...      ...   \n",
       "5567      3306107             Valença  -22.2445   -43.7129        0   \n",
       "5568      3306156           Varre-Sai  -20.9276   -41.8701        0   \n",
       "5569      3306206           Vassouras  -22.4059   -43.6686        0   \n",
       "5570      3306305       Volta Redonda  -22.5202   -44.0996        0   \n",
       "5571      5300108            Brasília  -15.7795   -47.9297        1   \n",
       "\n",
       "      codigo_uf  siafi_id  ddd       fuso_horario  uf  \n",
       "0            52      1050   62  America/Sao_Paulo  GO  \n",
       "1            52      9201   62  America/Sao_Paulo  GO  \n",
       "2            52      9645   64  America/Sao_Paulo  GO  \n",
       "3            52      9769   64  America/Sao_Paulo  GO  \n",
       "4            52      9771   62  America/Sao_Paulo  GO  \n",
       "...         ...       ...  ...                ...  ..  \n",
       "5567         33      5921   24  America/Sao_Paulo  RJ  \n",
       "5568         33      2917   22  America/Sao_Paulo  RJ  \n",
       "5569         33      5923   24  America/Sao_Paulo  RJ  \n",
       "5570         33      5925   24  America/Sao_Paulo  RJ  \n",
       "5571         53      9701   61  America/Sao_Paulo  DF  \n",
       "\n",
       "[5572 rows x 10 columns]"
      ]
     },
     "execution_count": 29,
     "metadata": {},
     "output_type": "execute_result"
    }
   ],
   "source": [
    "df"
   ]
  },
  {
   "cell_type": "code",
   "execution_count": 30,
   "id": "cdd98a8c-772a-49d9-90ef-dfa037461ebc",
   "metadata": {
    "tags": []
   },
   "outputs": [],
   "source": [
    "def save(df):\n",
    "    for uf in df.uf.unique():\n",
    "        aux = df[df.uf == uf]\n",
    "        client.put_object(Bucket='aula-06', Key=f'{uf}/municipios.csv', Body=aux.to_csv(index=False))"
   ]
  },
  {
   "cell_type": "code",
   "execution_count": 31,
   "id": "13e55e7d-6e73-4fa2-b795-db548bf718a3",
   "metadata": {
    "tags": []
   },
   "outputs": [],
   "source": [
    "save(df)"
   ]
  },
  {
   "cell_type": "markdown",
   "id": "13fd72ef-2643-40dc-9f88-25ad2dea91e3",
   "metadata": {},
   "source": [
    "## Com Kafka"
   ]
  },
  {
   "cell_type": "code",
   "execution_count": 32,
   "id": "5d72f51a-5a95-4bbf-b7c8-ba8153165246",
   "metadata": {
    "tags": []
   },
   "outputs": [],
   "source": [
    "#!wget https://downloads.apache.org/kafka/3.6.1/kafka_2.13-3.6.1.tgz\n",
    "#!tar -xvzf kafka_2.13-3.6.1.tgz"
   ]
  },
  {
   "cell_type": "code",
   "execution_count": null,
   "id": "b985a415-ae65-4a53-8f45-cae5e70d8f8e",
   "metadata": {
    "tags": []
   },
   "outputs": [],
   "source": [
    "!../arquivos/kafka_2.13-3.6.1/bin/zookeeper-server-start.sh -daemon ../arquivos/kafka_2.13-3.6.1/config/zookeeper.properties"
   ]
  },
  {
   "cell_type": "code",
   "execution_count": null,
   "id": "6a43360f-5442-4335-847c-12d956c0fda0",
   "metadata": {
    "tags": []
   },
   "outputs": [],
   "source": [
    "!../arquivos/kafka_2.13-3.6.1/bin/kafka-server-start.sh -daemon ../arquivos/kafka_2.13-3.6.1/server.properties"
   ]
  },
  {
   "cell_type": "code",
   "execution_count": null,
   "id": "2c331d70-7552-4af8-8249-0ed0eeb40c88",
   "metadata": {
    "tags": []
   },
   "outputs": [],
   "source": [
    "!../arquivos/kafka_2.13-3.6.1/bin/kafka-topics.sh --create --topic novos-municipios --bootstrap-server localhost:9092"
   ]
  },
  {
   "cell_type": "markdown",
   "id": "72920735-66c8-4b31-a618-eaf0c0c01727",
   "metadata": {},
   "source": [
    "#### Observação\n",
    "Não foi possível automatizar o processo com o python devido à dificuldade em configurar o ambiente do Kafka, já que o container do docker não está funcionando"
   ]
  }
 ],
 "metadata": {
  "kernelspec": {
   "display_name": "Python 3 (ipykernel)",
   "language": "python",
   "name": "python3"
  },
  "language_info": {
   "codemirror_mode": {
    "name": "ipython",
    "version": 3
   },
   "file_extension": ".py",
   "mimetype": "text/x-python",
   "name": "python",
   "nbconvert_exporter": "python",
   "pygments_lexer": "ipython3",
   "version": "3.10.9"
  }
 },
 "nbformat": 4,
 "nbformat_minor": 5
}
